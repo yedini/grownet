{
 "cells": [
  {
   "cell_type": "code",
   "execution_count": 2,
   "metadata": {},
   "outputs": [],
   "source": [
    "from sklearn.datasets import load_svmlight_file\n",
    "import numpy as np"
   ]
  },
  {
   "cell_type": "code",
   "execution_count": 3,
   "metadata": {},
   "outputs": [],
   "source": [
    "feat, label = load_svmlight_file(r'.\\yahoo.train')"
   ]
  },
  {
   "cell_type": "code",
   "execution_count": 4,
   "metadata": {},
   "outputs": [
    {
     "name": "stdout",
     "output_type": "stream",
     "text": [
      "519\n"
     ]
    }
   ],
   "source": [
    "feat = feat.toarray().astype(np.float32)\n",
    "label = label.astype(np.float32)\n",
    "feat = feat[:, ~(feat == 0).all(0)]\n",
    "print(feat.shape[1])"
   ]
  },
  {
   "cell_type": "code",
   "execution_count": 5,
   "metadata": {},
   "outputs": [
    {
     "name": "stdout",
     "output_type": "stream",
     "text": [
      "519\n"
     ]
    }
   ],
   "source": [
    "#### Getting querries ####\n",
    "input = open(r'.\\set1.train.txt',\"r\")\n",
    "qid = []\n",
    "labels = []\n",
    "while True:\n",
    "    line = input.readline()\n",
    "    if not line:\n",
    "        break\n",
    "    tokens = line.split(' ')\n",
    "    tokens[-1] = tokens[-1].strip()\n",
    "    labels.append(int(tokens[0]))\n",
    "    qid.append(int(tokens[1].split(':')[1]))\n",
    "input.close()"
   ]
  },
  {
   "cell_type": "code",
   "execution_count": 7,
   "metadata": {},
   "outputs": [],
   "source": [
    "output_feature = open('yahoo.train.txt',\"w\")\n",
    "for i in range(len(labels)):\n",
    "    output_feature.write(str(labels[i]) +' qid:' + str(qid[i]) + ' ')\n",
    "    tmp = []\n",
    "    for j in range(len(feat[0])):\n",
    "        c = str(j+1) + ':' +str(feat[i, j])\n",
    "        tmp.append(c)\n",
    "    output_feature.write(' '.join(tmp) + '\\n')\n",
    "output_feature.close()"
   ]
  }
 ],
 "metadata": {
  "kernelspec": {
   "display_name": "Python 3",
   "language": "python",
   "name": "python3"
  },
  "language_info": {
   "codemirror_mode": {
    "name": "ipython",
    "version": 3
   },
   "file_extension": ".py",
   "mimetype": "text/x-python",
   "name": "python",
   "nbconvert_exporter": "python",
   "pygments_lexer": "ipython3",
   "version": "3.7.1"
  }
 },
 "nbformat": 4,
 "nbformat_minor": 2
}
