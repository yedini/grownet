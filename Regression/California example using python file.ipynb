{
 "cells": [
  {
   "cell_type": "markdown",
   "id": "6e04033e",
   "metadata": {},
   "source": [
    "### 패키지 설치"
   ]
  },
  {
   "cell_type": "code",
   "execution_count": 2,
   "id": "2f43126d",
   "metadata": {},
   "outputs": [
    {
     "name": "stdout",
     "output_type": "stream",
     "text": [
      "Requirement already satisfied: torch==1.8.1 in c:\\users\\yj-hwang\\anaconda3\\lib\\site-packages (1.8.1)\n",
      "Requirement already satisfied: numpy in c:\\users\\yj-hwang\\anaconda3\\lib\\site-packages (from torch==1.8.1) (1.21.2)\n",
      "Requirement already satisfied: typing-extensions in c:\\users\\yj-hwang\\anaconda3\\lib\\site-packages (from torch==1.8.1) (4.2.0)\n"
     ]
    },
    {
     "name": "stderr",
     "output_type": "stream",
     "text": [
      "WARNING: Ignoring invalid distribution -atplotlib (c:\\users\\yj-hwang\\anaconda3\\lib\\site-packages)\n",
      "WARNING: Ignoring invalid distribution -atplotlib (c:\\users\\yj-hwang\\anaconda3\\lib\\site-packages)\n",
      "WARNING: Ignoring invalid distribution -atplotlib (c:\\users\\yj-hwang\\anaconda3\\lib\\site-packages)\n",
      "WARNING: Ignoring invalid distribution -atplotlib (c:\\users\\yj-hwang\\anaconda3\\lib\\site-packages)\n",
      "WARNING: Ignoring invalid distribution -atplotlib (c:\\users\\yj-hwang\\anaconda3\\lib\\site-packages)\n",
      "WARNING: Ignoring invalid distribution -atplotlib (c:\\users\\yj-hwang\\anaconda3\\lib\\site-packages)\n",
      "WARNING: There was an error checking the latest version of pip.\n"
     ]
    }
   ],
   "source": [
    "!pip install torch==1.8.1"
   ]
  },
  {
   "cell_type": "markdown",
   "id": "d4713932",
   "metadata": {},
   "source": [
    "### 사용 데이터를 grownet 코드에 맞게 가공"
   ]
  },
  {
   "cell_type": "markdown",
   "id": "604a7ed1",
   "metadata": {},
   "source": [
    "#### 데이터 load"
   ]
  },
  {
   "cell_type": "code",
   "execution_count": 3,
   "id": "b7bc7984",
   "metadata": {},
   "outputs": [
    {
     "data": {
      "text/html": [
       "<div>\n",
       "<style scoped>\n",
       "    .dataframe tbody tr th:only-of-type {\n",
       "        vertical-align: middle;\n",
       "    }\n",
       "\n",
       "    .dataframe tbody tr th {\n",
       "        vertical-align: top;\n",
       "    }\n",
       "\n",
       "    .dataframe thead th {\n",
       "        text-align: right;\n",
       "    }\n",
       "</style>\n",
       "<table border=\"1\" class=\"dataframe\">\n",
       "  <thead>\n",
       "    <tr style=\"text-align: right;\">\n",
       "      <th></th>\n",
       "      <th>longitude</th>\n",
       "      <th>latitude</th>\n",
       "      <th>housing_median_age</th>\n",
       "      <th>total_rooms</th>\n",
       "      <th>total_bedrooms</th>\n",
       "      <th>population</th>\n",
       "      <th>households</th>\n",
       "      <th>median_income</th>\n",
       "      <th>median_house_value</th>\n",
       "      <th>ocean_proximity</th>\n",
       "    </tr>\n",
       "  </thead>\n",
       "  <tbody>\n",
       "    <tr>\n",
       "      <th>0</th>\n",
       "      <td>-122.23</td>\n",
       "      <td>37.88</td>\n",
       "      <td>41.0</td>\n",
       "      <td>880.0</td>\n",
       "      <td>129.0</td>\n",
       "      <td>322.0</td>\n",
       "      <td>126.0</td>\n",
       "      <td>8.3252</td>\n",
       "      <td>452600.0</td>\n",
       "      <td>NEAR BAY</td>\n",
       "    </tr>\n",
       "    <tr>\n",
       "      <th>1</th>\n",
       "      <td>-122.22</td>\n",
       "      <td>37.86</td>\n",
       "      <td>21.0</td>\n",
       "      <td>7099.0</td>\n",
       "      <td>1106.0</td>\n",
       "      <td>2401.0</td>\n",
       "      <td>1138.0</td>\n",
       "      <td>8.3014</td>\n",
       "      <td>358500.0</td>\n",
       "      <td>NEAR BAY</td>\n",
       "    </tr>\n",
       "    <tr>\n",
       "      <th>2</th>\n",
       "      <td>-122.24</td>\n",
       "      <td>37.85</td>\n",
       "      <td>52.0</td>\n",
       "      <td>1467.0</td>\n",
       "      <td>190.0</td>\n",
       "      <td>496.0</td>\n",
       "      <td>177.0</td>\n",
       "      <td>7.2574</td>\n",
       "      <td>352100.0</td>\n",
       "      <td>NEAR BAY</td>\n",
       "    </tr>\n",
       "    <tr>\n",
       "      <th>3</th>\n",
       "      <td>-122.25</td>\n",
       "      <td>37.85</td>\n",
       "      <td>52.0</td>\n",
       "      <td>1274.0</td>\n",
       "      <td>235.0</td>\n",
       "      <td>558.0</td>\n",
       "      <td>219.0</td>\n",
       "      <td>5.6431</td>\n",
       "      <td>341300.0</td>\n",
       "      <td>NEAR BAY</td>\n",
       "    </tr>\n",
       "    <tr>\n",
       "      <th>4</th>\n",
       "      <td>-122.25</td>\n",
       "      <td>37.85</td>\n",
       "      <td>52.0</td>\n",
       "      <td>1627.0</td>\n",
       "      <td>280.0</td>\n",
       "      <td>565.0</td>\n",
       "      <td>259.0</td>\n",
       "      <td>3.8462</td>\n",
       "      <td>342200.0</td>\n",
       "      <td>NEAR BAY</td>\n",
       "    </tr>\n",
       "  </tbody>\n",
       "</table>\n",
       "</div>"
      ],
      "text/plain": [
       "   longitude  latitude  housing_median_age  total_rooms  total_bedrooms  \\\n",
       "0    -122.23     37.88                41.0        880.0           129.0   \n",
       "1    -122.22     37.86                21.0       7099.0          1106.0   \n",
       "2    -122.24     37.85                52.0       1467.0           190.0   \n",
       "3    -122.25     37.85                52.0       1274.0           235.0   \n",
       "4    -122.25     37.85                52.0       1627.0           280.0   \n",
       "\n",
       "   population  households  median_income  median_house_value ocean_proximity  \n",
       "0       322.0       126.0         8.3252            452600.0        NEAR BAY  \n",
       "1      2401.0      1138.0         8.3014            358500.0        NEAR BAY  \n",
       "2       496.0       177.0         7.2574            352100.0        NEAR BAY  \n",
       "3       558.0       219.0         5.6431            341300.0        NEAR BAY  \n",
       "4       565.0       259.0         3.8462            342200.0        NEAR BAY  "
      ]
     },
     "execution_count": 3,
     "metadata": {},
     "output_type": "execute_result"
    }
   ],
   "source": [
    "import pandas as pd\n",
    "data = pd.read_csv('housing.csv')\n",
    "data.head()"
   ]
  },
  {
   "cell_type": "markdown",
   "id": "762368b5",
   "metadata": {},
   "source": [
    "#### 범주형 변수를 수치형으로 변환"
   ]
  },
  {
   "cell_type": "code",
   "execution_count": 4,
   "id": "4bb9518f",
   "metadata": {},
   "outputs": [
    {
     "data": {
      "text/html": [
       "<div>\n",
       "<style scoped>\n",
       "    .dataframe tbody tr th:only-of-type {\n",
       "        vertical-align: middle;\n",
       "    }\n",
       "\n",
       "    .dataframe tbody tr th {\n",
       "        vertical-align: top;\n",
       "    }\n",
       "\n",
       "    .dataframe thead th {\n",
       "        text-align: right;\n",
       "    }\n",
       "</style>\n",
       "<table border=\"1\" class=\"dataframe\">\n",
       "  <thead>\n",
       "    <tr style=\"text-align: right;\">\n",
       "      <th></th>\n",
       "      <th>longitude</th>\n",
       "      <th>latitude</th>\n",
       "      <th>housing_median_age</th>\n",
       "      <th>total_rooms</th>\n",
       "      <th>total_bedrooms</th>\n",
       "      <th>population</th>\n",
       "      <th>households</th>\n",
       "      <th>median_income</th>\n",
       "      <th>median_house_value</th>\n",
       "      <th>ocean_proximity</th>\n",
       "    </tr>\n",
       "  </thead>\n",
       "  <tbody>\n",
       "    <tr>\n",
       "      <th>0</th>\n",
       "      <td>-122.23</td>\n",
       "      <td>37.88</td>\n",
       "      <td>41.0</td>\n",
       "      <td>880.0</td>\n",
       "      <td>129.0</td>\n",
       "      <td>322.0</td>\n",
       "      <td>126.0</td>\n",
       "      <td>8.3252</td>\n",
       "      <td>452600.0</td>\n",
       "      <td>3</td>\n",
       "    </tr>\n",
       "    <tr>\n",
       "      <th>1</th>\n",
       "      <td>-122.22</td>\n",
       "      <td>37.86</td>\n",
       "      <td>21.0</td>\n",
       "      <td>7099.0</td>\n",
       "      <td>1106.0</td>\n",
       "      <td>2401.0</td>\n",
       "      <td>1138.0</td>\n",
       "      <td>8.3014</td>\n",
       "      <td>358500.0</td>\n",
       "      <td>3</td>\n",
       "    </tr>\n",
       "    <tr>\n",
       "      <th>2</th>\n",
       "      <td>-122.24</td>\n",
       "      <td>37.85</td>\n",
       "      <td>52.0</td>\n",
       "      <td>1467.0</td>\n",
       "      <td>190.0</td>\n",
       "      <td>496.0</td>\n",
       "      <td>177.0</td>\n",
       "      <td>7.2574</td>\n",
       "      <td>352100.0</td>\n",
       "      <td>3</td>\n",
       "    </tr>\n",
       "    <tr>\n",
       "      <th>3</th>\n",
       "      <td>-122.25</td>\n",
       "      <td>37.85</td>\n",
       "      <td>52.0</td>\n",
       "      <td>1274.0</td>\n",
       "      <td>235.0</td>\n",
       "      <td>558.0</td>\n",
       "      <td>219.0</td>\n",
       "      <td>5.6431</td>\n",
       "      <td>341300.0</td>\n",
       "      <td>3</td>\n",
       "    </tr>\n",
       "    <tr>\n",
       "      <th>4</th>\n",
       "      <td>-122.25</td>\n",
       "      <td>37.85</td>\n",
       "      <td>52.0</td>\n",
       "      <td>1627.0</td>\n",
       "      <td>280.0</td>\n",
       "      <td>565.0</td>\n",
       "      <td>259.0</td>\n",
       "      <td>3.8462</td>\n",
       "      <td>342200.0</td>\n",
       "      <td>3</td>\n",
       "    </tr>\n",
       "  </tbody>\n",
       "</table>\n",
       "</div>"
      ],
      "text/plain": [
       "   longitude  latitude  housing_median_age  total_rooms  total_bedrooms  \\\n",
       "0    -122.23     37.88                41.0        880.0           129.0   \n",
       "1    -122.22     37.86                21.0       7099.0          1106.0   \n",
       "2    -122.24     37.85                52.0       1467.0           190.0   \n",
       "3    -122.25     37.85                52.0       1274.0           235.0   \n",
       "4    -122.25     37.85                52.0       1627.0           280.0   \n",
       "\n",
       "   population  households  median_income  median_house_value  ocean_proximity  \n",
       "0       322.0       126.0         8.3252            452600.0                3  \n",
       "1      2401.0      1138.0         8.3014            358500.0                3  \n",
       "2       496.0       177.0         7.2574            352100.0                3  \n",
       "3       558.0       219.0         5.6431            341300.0                3  \n",
       "4       565.0       259.0         3.8462            342200.0                3  "
      ]
     },
     "execution_count": 4,
     "metadata": {},
     "output_type": "execute_result"
    }
   ],
   "source": [
    "from sklearn.preprocessing import LabelEncoder\n",
    "le = LabelEncoder()\n",
    "le = le.fit(data['ocean_proximity'])  \n",
    "data['ocean_proximity'] = le.transform(data['ocean_proximity'])\n",
    "data.head()"
   ]
  },
  {
   "cell_type": "code",
   "execution_count": 5,
   "id": "5aedfe21",
   "metadata": {
    "scrolled": true
   },
   "outputs": [
    {
     "data": {
      "text/plain": [
       "0    9136\n",
       "1    6551\n",
       "4    2658\n",
       "3    2290\n",
       "2       5\n",
       "Name: ocean_proximity, dtype: int64"
      ]
     },
     "execution_count": 5,
     "metadata": {},
     "output_type": "execute_result"
    }
   ],
   "source": [
    "data['ocean_proximity'].value_counts()"
   ]
  },
  {
   "cell_type": "markdown",
   "id": "a9372fd7",
   "metadata": {},
   "source": [
    "#### na 처리"
   ]
  },
  {
   "cell_type": "code",
   "execution_count": 6,
   "id": "0c14902c",
   "metadata": {},
   "outputs": [
    {
     "data": {
      "text/plain": [
       "longitude               0\n",
       "latitude                0\n",
       "housing_median_age      0\n",
       "total_rooms             0\n",
       "total_bedrooms        207\n",
       "population              0\n",
       "households              0\n",
       "median_income           0\n",
       "median_house_value      0\n",
       "ocean_proximity         0\n",
       "dtype: int64"
      ]
     },
     "execution_count": 6,
     "metadata": {},
     "output_type": "execute_result"
    }
   ],
   "source": [
    "data.isnull().sum()   # na 확인"
   ]
  },
  {
   "cell_type": "code",
   "execution_count": 7,
   "id": "5da4edf2",
   "metadata": {},
   "outputs": [],
   "source": [
    "data = data.dropna(axis=0)   # na 값이 포함된 행은 제거"
   ]
  },
  {
   "cell_type": "code",
   "execution_count": 8,
   "id": "0bcb5c2c",
   "metadata": {},
   "outputs": [
    {
     "data": {
      "text/plain": [
       "longitude             0\n",
       "latitude              0\n",
       "housing_median_age    0\n",
       "total_rooms           0\n",
       "total_bedrooms        0\n",
       "population            0\n",
       "households            0\n",
       "median_income         0\n",
       "median_house_value    0\n",
       "ocean_proximity       0\n",
       "dtype: int64"
      ]
     },
     "execution_count": 8,
     "metadata": {},
     "output_type": "execute_result"
    }
   ],
   "source": [
    "data.isnull().sum()   # na 값이 제거되었는지 확인"
   ]
  },
  {
   "cell_type": "markdown",
   "id": "c1ec5c14",
   "metadata": {},
   "source": [
    "#### train, test set split 및 데이터 저장"
   ]
  },
  {
   "cell_type": "code",
   "execution_count": 10,
   "id": "07b93752",
   "metadata": {},
   "outputs": [
    {
     "data": {
      "text/plain": [
       "array([[-1.1973e+02,  3.6750e+01,  3.9000e+01, ...,  3.0300e+02,\n",
       "         3.1719e+00,  1.0000e+00],\n",
       "       [-1.1815e+02,  3.4150e+01,  4.9000e+01, ...,  1.7200e+02,\n",
       "         2.3654e+00,  0.0000e+00],\n",
       "       [-1.2251e+02,  3.7530e+01,  1.7000e+01, ...,  2.4100e+02,\n",
       "         7.2929e+00,  4.0000e+00],\n",
       "       ...,\n",
       "       [-1.2100e+02,  3.7610e+01,  3.6000e+01, ...,  5.5000e+02,\n",
       "         2.2730e+00,  1.0000e+00],\n",
       "       [-1.2248e+02,  3.7730e+01,  3.8000e+01, ...,  7.7800e+02,\n",
       "         3.1359e+00,  4.0000e+00],\n",
       "       [-1.1734e+02,  3.3150e+01,  1.7000e+01, ...,  1.0620e+03,\n",
       "         3.3536e+00,  4.0000e+00]])"
      ]
     },
     "execution_count": 10,
     "metadata": {},
     "output_type": "execute_result"
    }
   ],
   "source": [
    "# train, test split\n",
    "from sklearn.model_selection import train_test_split\n",
    "X = data.drop('median_house_value', axis=1)\n",
    "y = data['median_house_value']\n",
    "train_x, test_x, train_y, test_y = train_test_split(X, y, test_size=0.2, random_state=777)\n",
    "\n",
    "# save files\n",
    "import numpy as np\n",
    "np.savez('train', labels = train_y, features = train_x )\n",
    "np.savez('test', labels = test_y, features = test_x)\n",
    "\n",
    "# 파일을 로드하여 잘 저장되었는지 확인\n",
    "t = np.load('train.npz')\n",
    "t['features']"
   ]
  },
  {
   "cell_type": "markdown",
   "id": "6cb88acd",
   "metadata": {},
   "source": [
    "#### 설명변수 dimension 확인"
   ]
  },
  {
   "cell_type": "code",
   "execution_count": 12,
   "id": "d059a020",
   "metadata": {},
   "outputs": [
    {
     "data": {
      "text/plain": [
       "9"
      ]
     },
     "execution_count": 12,
     "metadata": {},
     "output_type": "execute_result"
    }
   ],
   "source": [
    "train_x.shape[1]"
   ]
  },
  {
   "cell_type": "code",
   "execution_count": 15,
   "id": "e852f3f3",
   "metadata": {},
   "outputs": [
    {
     "name": "stdout",
     "output_type": "stream",
     "text": [
      "9\n",
      "9\n",
      "Creating Validation set! \n",
      "\n",
      "#Train: 15528, #Val: 818 #Test: 4087\n",
      "$california training and test datasets are loaded!\n",
      "Stage - 0, training time:  4.3 sec, model MSE loss:  115844.56866, Ensemble Net MSE Loss:  0.00000\n",
      "Stage: 0  RMSE@Tr: 115844.48548, RMSE@Val: 114705.60133, RMSE@Te: 114011.85510\n",
      "Stage - 1, training time:  9.7 sec, model MSE loss:  115843.33487, Ensemble Net MSE Loss:  115841.60176\n",
      "Stage: 1  RMSE@Tr: 115841.55001, RMSE@Val: 114702.82940, RMSE@Te: 114009.03038\n",
      "Stage - 2, training time:  8.9 sec, model MSE loss:  115839.64761, Ensemble Net MSE Loss:  115837.18180\n",
      "Stage: 2  RMSE@Tr: 115834.30217, RMSE@Val: 114696.08007, RMSE@Te: 114002.04686\n",
      "Stage - 3, training time:  10.0 sec, model MSE loss:  115834.67814, Ensemble Net MSE Loss:  115831.74741\n",
      "Stage: 3  RMSE@Tr: 115827.17723, RMSE@Val: 114688.99107, RMSE@Te: 113994.93266\n",
      "Stage - 4, training time:  10.6 sec, model MSE loss:  115828.17087, Ensemble Net MSE Loss:  115824.54181\n",
      "Stage: 4  RMSE@Tr: 115817.01357, RMSE@Val: 114679.23181, RMSE@Te: 113984.92981\n",
      "Stage - 5, training time:  10.7 sec, model MSE loss:  115819.62494, Ensemble Net MSE Loss:  115814.82904\n",
      "Stage: 5  RMSE@Tr: 115805.14978, RMSE@Val: 114667.75714, RMSE@Te: 113973.28641\n",
      "Stage - 6, training time:  11.2 sec, model MSE loss:  115808.45283, Ensemble Net MSE Loss:  115802.71691\n",
      "Stage: 6  RMSE@Tr: 115789.43383, RMSE@Val: 114652.51683, RMSE@Te: 113957.71960\n",
      "Stage - 7, training time:  11.0 sec, model MSE loss:  115794.88046, Ensemble Net MSE Loss:  115787.85525\n",
      "Stage: 7  RMSE@Tr: 115773.18469, RMSE@Val: 114637.10924, RMSE@Te: 113941.75073\n",
      "Stage - 8, training time:  11.1 sec, model MSE loss:  115778.27105, Ensemble Net MSE Loss:  115770.15886\n",
      "Stage: 8  RMSE@Tr: 115751.49576, RMSE@Val: 114616.41516, RMSE@Te: 113920.53932\n",
      "Stage - 9, training time:  12.1 sec, model MSE loss:  115758.80804, Ensemble Net MSE Loss:  115749.28837\n",
      "Stage: 9  RMSE@Tr: 115722.46263, RMSE@Val: 114588.25127, RMSE@Te: 113891.97858\n",
      "Stage - 10, training time:  10.9 sec, model MSE loss:  115735.53000, Ensemble Net MSE Loss:  115724.11806\n",
      "Stage: 10  RMSE@Tr: 115684.72999, RMSE@Val: 114552.03995, RMSE@Te: 113854.71837\n",
      "Stage - 11, training time:  11.9 sec, model MSE loss:  115707.94790, Ensemble Net MSE Loss:  115694.76843\n",
      "Stage: 11  RMSE@Tr: 115633.74238, RMSE@Val: 114504.29037, RMSE@Te: 113804.64722\n",
      "Stage - 12, training time:  11.9 sec, model MSE loss:  115675.97810, Ensemble Net MSE Loss:  115661.28110\n",
      "Stage: 12  RMSE@Tr: 115595.05503, RMSE@Val: 114465.77578, RMSE@Te: 113766.16130\n",
      "Stage - 13, training time:  13.5 sec, model MSE loss:  115639.42735, Ensemble Net MSE Loss:  115622.70046\n",
      "Stage: 13  RMSE@Tr: 115514.41315, RMSE@Val: 114386.97996, RMSE@Te: 113686.43472\n",
      "Stage - 14, training time:  12.7 sec, model MSE loss:  115597.74530, Ensemble Net MSE Loss:  115578.99604\n",
      "Stage: 14  RMSE@Tr: 115452.82811, RMSE@Val: 114329.48428, RMSE@Te: 113626.47128\n",
      "Stage - 15, training time:  13.2 sec, model MSE loss:  115550.57782, Ensemble Net MSE Loss:  115538.39239\n",
      "Stage: 15  RMSE@Tr: 115497.45071, RMSE@Val: 114372.97807, RMSE@Te: 113670.67998\n",
      "Stage - 16, training time:  13.3 sec, model MSE loss:  115522.53993, Ensemble Net MSE Loss:  115510.63124\n",
      "Stage: 16  RMSE@Tr: 115461.83899, RMSE@Val: 114339.64506, RMSE@Te: 113635.97402\n",
      "Stage - 17, training time:  13.4 sec, model MSE loss:  115493.85536, Ensemble Net MSE Loss:  115482.34478\n",
      "Stage: 17  RMSE@Tr: 115412.77705, RMSE@Val: 114289.48172, RMSE@Te: 113586.64485\n",
      "Stage - 18, training time:  13.5 sec, model MSE loss:  115463.92756, Ensemble Net MSE Loss:  115450.98262\n",
      "Stage: 18  RMSE@Tr: 115392.89517, RMSE@Val: 114272.11649, RMSE@Te: 113567.52212\n",
      "Stage - 19, training time:  13.7 sec, model MSE loss:  115431.38320, Ensemble Net MSE Loss:  115417.84913\n",
      "Stage: 19  RMSE@Tr: 115354.44668, RMSE@Val: 114234.59931, RMSE@Te: 113530.02465\n",
      "Stage - 20, training time:  15.5 sec, model MSE loss:  115397.03589, Ensemble Net MSE Loss:  115382.89562\n",
      "Stage: 20  RMSE@Tr: 115305.90641, RMSE@Val: 114187.58237, RMSE@Te: 113482.18341\n",
      "Stage - 21, training time:  16.0 sec, model MSE loss:  115361.10845, Ensemble Net MSE Loss:  115345.68007\n",
      "Stage: 21  RMSE@Tr: 115228.17034, RMSE@Val: 114111.43017, RMSE@Te: 113404.86677\n",
      "Stage - 22, training time:  15.5 sec, model MSE loss:  115322.64172, Ensemble Net MSE Loss:  115306.49936\n",
      "Stage: 22  RMSE@Tr: 115217.21812, RMSE@Val: 114103.54652, RMSE@Te: 113395.45755\n",
      "Stage - 23, training time:  15.9 sec, model MSE loss:  115281.94344, Ensemble Net MSE Loss:  115264.58365\n",
      "Stage: 23  RMSE@Tr: 115139.04267, RMSE@Val: 114029.40365, RMSE@Te: 113318.90405\n",
      "Stage - 24, training time:  17.4 sec, model MSE loss:  115238.18178, Ensemble Net MSE Loss:  115220.03741\n",
      "Stage: 24  RMSE@Tr: 115092.04235, RMSE@Val: 113984.94329, RMSE@Te: 113272.93989\n",
      "Stage - 25, training time:  16.7 sec, model MSE loss:  115192.96494, Ensemble Net MSE Loss:  115173.25902\n",
      "Stage: 25  RMSE@Tr: 114990.09899, RMSE@Val: 113882.42077, RMSE@Te: 113170.07096\n",
      "Stage - 26, training time:  16.6 sec, model MSE loss:  115143.49407, Ensemble Net MSE Loss:  115124.25282\n",
      "Stage: 26  RMSE@Tr: 114900.03599, RMSE@Val: 113797.77713, RMSE@Te: 113080.95054\n",
      "Stage - 27, training time:  17.8 sec, model MSE loss:  115093.04044, Ensemble Net MSE Loss:  115071.33924\n",
      "Stage: 27  RMSE@Tr: 114885.90420, RMSE@Val: 113776.67838, RMSE@Te: 113065.88126\n",
      "Stage - 28, training time:  19.0 sec, model MSE loss:  115038.40478, Ensemble Net MSE Loss:  115015.54341\n",
      "Stage: 28  RMSE@Tr: 114790.27087, RMSE@Val: 113691.95602, RMSE@Te: 112973.29780\n",
      "Stage - 29, training time:  17.1 sec, model MSE loss:  114981.60929, Ensemble Net MSE Loss:  114956.71657\n",
      "Stage: 29  RMSE@Tr: 114687.21063, RMSE@Val: 113592.82456, RMSE@Te: 112871.73889\n",
      "Stage - 30, training time:  18.0 sec, model MSE loss:  114920.95559, Ensemble Net MSE Loss:  114906.98068\n",
      "Stage: 30  RMSE@Tr: 114787.77008, RMSE@Val: 113690.68155, RMSE@Te: 112973.12105\n",
      "Stage - 31, training time:  18.7 sec, model MSE loss:  114887.18370, Ensemble Net MSE Loss:  114874.50752\n",
      "Stage: 31  RMSE@Tr: 114753.05475, RMSE@Val: 113661.12609, RMSE@Te: 112939.86449\n",
      "Stage - 32, training time:  18.0 sec, model MSE loss:  114854.88697, Ensemble Net MSE Loss:  114841.98078\n",
      "Stage: 32  RMSE@Tr: 114735.29343, RMSE@Val: 113644.30009, RMSE@Te: 112924.09174\n",
      "Stage - 33, training time:  17.7 sec, model MSE loss:  114822.07297, Ensemble Net MSE Loss:  114808.14137\n",
      "Stage: 33  RMSE@Tr: 114675.21892, RMSE@Val: 113585.13029, RMSE@Te: 112863.63255\n",
      "Stage - 34, training time:  18.0 sec, model MSE loss:  114786.12453, Ensemble Net MSE Loss:  114772.40319\n",
      "Stage: 34  RMSE@Tr: 114632.14275, RMSE@Val: 113545.68166, RMSE@Te: 112821.40393\n",
      "Stage - 35, training time:  19.3 sec, model MSE loss:  114751.68980, Ensemble Net MSE Loss:  114736.61503\n",
      "Stage: 35  RMSE@Tr: 114620.15605, RMSE@Val: 113535.45434, RMSE@Te: 112810.83409\n",
      "Stage - 36, training time:  19.4 sec, model MSE loss:  114714.83679, Ensemble Net MSE Loss:  114699.93116\n",
      "Stage: 36  RMSE@Tr: 114538.78159, RMSE@Val: 113449.05803, RMSE@Te: 112727.97019\n",
      "Stage - 37, training time:  19.7 sec, model MSE loss:  114676.85542, Ensemble Net MSE Loss:  114661.72338\n",
      "Stage: 37  RMSE@Tr: 114553.03399, RMSE@Val: 113471.26903, RMSE@Te: 112744.84212\n",
      "Stage - 38, training time:  19.1 sec, model MSE loss:  114637.69889, Ensemble Net MSE Loss:  114622.28154\n",
      "Stage: 38  RMSE@Tr: 114456.03562, RMSE@Val: 113373.26330, RMSE@Te: 112647.50430\n",
      "Stage - 39, training time:  20.1 sec, model MSE loss:  114599.01996, Ensemble Net MSE Loss:  114583.63573\n",
      "Stage: 39  RMSE@Tr: 114374.13806, RMSE@Val: 113291.64234, RMSE@Te: 112565.36618\n",
      "Best validation stage: 39  RMSE@Tr: 114374.14062, final RMSE@Te: 112565.36719\n"
     ]
    }
   ],
   "source": [
    "!python -u main_reg_cv.py \\\n",
    "    --feat_d 9 \\\n",
    "    --hidden_d 32 \\\n",
    "    --boost_rate 1 \\\n",
    "    --lr 0.005 \\\n",
    "    --L2 .0e-3 \\\n",
    "    --num_nets 40 \\\n",
    "    --data $california \\\n",
    "    --tr train.npz \\\n",
    "    --te test.npz \\\n",
    "    --batch_size 2048 \\\n",
    "    --epochs_per_stage 1 \\\n",
    "    --correct_epoch 1 \\\n",
    "    --normalization True \\\n",
    "    --cv True \\\n",
    "    --out_f california_model.pth \\\n",
    "    --filename california_pred.csv"
   ]
  }
 ],
 "metadata": {
  "kernelspec": {
   "display_name": "Python 3",
   "language": "python",
   "name": "python3"
  },
  "language_info": {
   "codemirror_mode": {
    "name": "ipython",
    "version": 3
   },
   "file_extension": ".py",
   "mimetype": "text/x-python",
   "name": "python",
   "nbconvert_exporter": "python",
   "pygments_lexer": "ipython3",
   "version": "3.8.8"
  }
 },
 "nbformat": 4,
 "nbformat_minor": 5
}
